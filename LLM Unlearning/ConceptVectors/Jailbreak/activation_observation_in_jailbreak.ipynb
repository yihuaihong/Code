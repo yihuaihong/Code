{
 "cells": [
  {
   "cell_type": "code",
   "execution_count": null,
   "outputs": [],
   "source": [
    "import torch\n",
    "\n",
    "# 检查CUDA是否可用\n",
    "if torch.cuda.is_available():\n",
    "    # 获取可用的GPU设备数量\n",
    "    gpu_count = torch.cuda.device_count()\n",
    "    print(f\"Find {gpu_count} GPU can be used.\")\n",
    "\n",
    "    # 遍历并打印每个GPU设备的名称\n",
    "    for i in range(gpu_count):\n",
    "        gpu_name = torch.cuda.get_device_name(i)\n",
    "        print(f\"GPU {i + 1}: {gpu_name}\")\n",
    "else:\n",
    "    print(\"No GPU can be used.\")\n"
   ],
   "metadata": {
    "collapsed": false
   }
  },
  {
   "cell_type": "code",
   "execution_count": null,
   "outputs": [],
   "source": [
    "import copy\n",
    "from nltk.translate.bleu_score import sentence_bleu, SmoothingFunction\n",
    "from rouge import Rouge\n",
    "# from bert_score import score\n",
    "import statistics\n",
    "from ast import literal_eval\n",
    "import functools\n",
    "import json\n",
    "import os\n",
    "import random\n",
    "import wget\n",
    "import numpy as np\n",
    "import pandas as pd\n",
    "import torch\n",
    "import torch.nn.functional as F\n",
    "\n",
    "random.seed(8888)\n",
    "torch.manual_seed(8888)\n",
    "random.seed(8888)\n",
    "np.random.seed(8888)\n",
    "\n",
    "if torch.cuda.is_available():\n",
    "    torch.cuda.manual_seed(8888)\n",
    "    torch.cuda.manual_seed_all(8888)\n",
    "\n",
    "\n",
    "from tqdm import tqdm\n",
    "\n",
    "torch.set_grad_enabled(False)\n",
    "tqdm.pandas()"
   ],
   "metadata": {
    "collapsed": false
   }
  },
  {
   "cell_type": "code",
   "execution_count": null,
   "outputs": [],
   "source": [
    "torch.cuda.set_device(2)\n",
    "\n",
    "\n",
    "from transformers import AutoModelForCausalLM, AutoTokenizer\n",
    "import json\n",
    "from os.path import join\n",
    "\n",
    "# Get CounterFact data for GPT2-xl, from the ROME repository.\n",
    "#wget.download(\"https://rome.baulab.info/data/dsets/known_1000.json\")\n",
    "\n",
    "\n",
    "model_dir = \"/U_PZL2023ZZ0005/yhhong/transformers\"\n",
    "model_name = \"Qwen1.5-7B-Chat\" #\"chatglm3-6b\" #\"Llama-2-7b-chat-hf\" #\"Qwen1.5-7B-Chat\"\n",
    "\n",
    "\n",
    "model = AutoModelForCausalLM.from_pretrained(\n",
    "    join(model_dir, model_name),\n",
    "    torch_dtype=torch.bfloat16,\n",
    "    trust_remote_code=True\n",
    ");\n",
    "\n",
    "tokenizer = AutoTokenizer.from_pretrained(join(model_dir, model_name))\n",
    "tokenizer.pad_token = tokenizer.eos_token\n",
    "tokenizer.padding_side = \"left\"\n",
    "\n",
    "model.to('cuda');\n"
   ],
   "metadata": {
    "collapsed": false
   }
  },
  {
   "cell_type": "code",
   "execution_count": null,
   "outputs": [],
   "source": [
    "def set_act_get_hooks(model, tok_index, mlp=False, mlp_coef=False):\n",
    "    \"\"\"\n",
    "    Works on LLaMA-2, getting activation values from certain positions\n",
    "    \"\"\"\n",
    "    # Make sure that these are not set to True at the same time\n",
    "    #  so we don't put two different hooks on the same module.\n",
    "    #assert not (attn is True and attn_out is True)\n",
    "\n",
    "    for attr in [\"activations_\"]:\n",
    "        if not hasattr(model, attr):\n",
    "            setattr(model, attr, {})\n",
    "\n",
    "    print('tok_index: ',tok_index)\n",
    "\n",
    "    def get_activation(name):\n",
    "        def hook(module, input, output):\n",
    "            if \"m_coef\" in name:\n",
    "                # num_tokens = list(input[0].size())[1]  # (batch, sequence, hidden_state)\n",
    "                #print('output[0].size(): ',output[0].size())\n",
    "                #print('input[0].size(): ',input[0].size())\n",
    "                model.activations_[name] = input[0][:, tok_index].detach()\n",
    "            elif \"m_out\" in name:\n",
    "                model.activations_[name] = output[0][tok_index].detach()\n",
    "\n",
    "        return hook\n",
    "\n",
    "    hooks = []\n",
    "    for i in range(32):\n",
    "        if mlp_coef is True: #co-effciency\n",
    "            hooks.append(model.model.layers[i].mlp.down_proj.register_forward_hook(get_activation(\"m_coef_\" + str(i))))\n",
    "        if mlp is True:\n",
    "            hooks.append(model.model.layers[i].mlp.register_forward_hook(get_activation(\"m_out_\" + str(i))))\n",
    "\n",
    "    return hooks\n",
    "\n",
    "def remove_hooks(hooks):\n",
    "    for hook in hooks:\n",
    "        hook.remove()\n"
   ],
   "metadata": {
    "collapsed": false
   }
  }
 ],
 "metadata": {
  "kernelspec": {
   "display_name": "Python 3",
   "language": "python",
   "name": "python3"
  },
  "language_info": {
   "codemirror_mode": {
    "name": "ipython",
    "version": 2
   },
   "file_extension": ".py",
   "mimetype": "text/x-python",
   "name": "python",
   "nbconvert_exporter": "python",
   "pygments_lexer": "ipython2",
   "version": "2.7.6"
  }
 },
 "nbformat": 4,
 "nbformat_minor": 0
}
